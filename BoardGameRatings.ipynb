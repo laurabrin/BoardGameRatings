{
 "cells": [
  {
   "cell_type": "markdown",
   "metadata": {},
   "source": [
    "*created by Laura Brin and Jaskaran Singh for CMPT3830: Machine Learning Work Integrated Project at Norquest College*"
   ]
  },
  {
   "cell_type": "markdown",
   "metadata": {},
   "source": [
    "# Board Game Ratings"
   ]
  },
  {
   "cell_type": "markdown",
   "metadata": {},
   "source": [
    "### Board Game Insights\n",
    "The board game industry is a growing industry. Valued at 13.75 billion USD in 2021, this sector is expected to increase in value to 30.93 billion by 2028 (Globenewswire). There is an increasing trend among board game enthusiasts towards independent developers with word of mouth and kickstarter being the main way of learning about new games (PrintNinja). The ideal user of this application will be indie developers looking to improve their decisions around developing new games for the market. It could also be used by hobby stores to visualize trends to help make purchasing decisions. <br>\n",
    "\n",
    "The product backlog for this project is a bit ambitious. We would like to provide multiple options for potential game developers or creators to interact with the models. The main output will be an estimation of rating based on provided information about a game the user is developing or looking to acquire. By experimenting with different game details the user can evaluate if there would be value in making changes to their game. We would also like to develop an interactive way to view time-series trends using ipywidgets. <br>\n",
    "\n",
    "Additional features that would be great to introduce but will be outside of the time scope available include using keywords to return likelihood of kickstarter success and/or potential game rating and inputting game information and receiving a ranking of best months/quarters to launch the game in kickstarter. <br>"
   ]
  },
  {
   "cell_type": "markdown",
   "metadata": {},
   "source": [
    "load libraries"
   ]
  },
  {
   "cell_type": "code",
   "execution_count": null,
   "metadata": {},
   "outputs": [],
   "source": [
    "import sqlite3 \n",
    "import pandas as pd\n",
    "from zipfile import ZipFile"
   ]
  },
  {
   "cell_type": "markdown",
   "metadata": {},
   "source": [
    "importing datasets"
   ]
  },
  {
   "cell_type": "code",
   "execution_count": null,
   "metadata": {},
   "outputs": [],
   "source": [
    "#importing datasets for board games\n",
    "\n",
    "zf = ZipFile('database.zip')\n",
    "#extracted data is saved in the same directory as notebook\n",
    "zf.extractall() \n",
    "zf.close()\n",
    "\n",
    "conn = sqlite3.connect(\"database.sqlite\")\n",
    "cur = conn.cursor()\n",
    "df_games= pd.read_sql_query(\"SELECT* FROM BoardGames\",conn)\n",
    "#conn.close()\n",
    "\n",
    "\n",
    "#importing datasets for Kickstarter\n",
    "\n",
    "zf = ZipFile('ks-projects-201801.zip')\n",
    "#extracted data is saved in the same directory as notebook\n",
    "zf.extractall() \n",
    "zf.close()\n",
    "\n",
    "df_ks=pd.read_csv(\"ks-projects-201801.csv\")"
   ]
  },
  {
   "cell_type": "markdown",
   "metadata": {},
   "source": [
    " ### Games Dataset-Laura"
   ]
  },
  {
   "cell_type": "code",
   "execution_count": null,
   "metadata": {},
   "outputs": [],
   "source": [
    "#separating df_games columns to useable sections using game.id as key\n",
    "details=[\"game.id\",\"game.type\",\"details.description\",\"details.image\",\"details.maxplayers\",\"details.maxplaytime\",\"details.minage\",\n",
    "\"details.minplayers\",\"details.minplaytime\",\"details.name\",\"details.playingtime\",\"details.thumbnail\",\"details.yearpublished\"]\n",
    "attributes=[\"game.id\",\"attributes.boardgameartist\",\"attributes.boardgamecategory\",\"attributes.boardgamecompilation\",\"attributes.boardgamedesigner\",\"attributes.boardgameexpansion\",\n",
    "\"attributes.boardgamefamily\",\"attributes.boardgameimplementation\",\"attributes.boardgameintegration\",\"attributes.boardgamemechanic\",\"attributes.boardgamepublisher\",\"attributes.total\",\"attributes.t.links.concat.2....\"]\n",
    "stats=[\"game.id\",\"stats.average\",\"stats.averageweight\",\"stats.bayesaverage\",\"stats.family.abstracts.bayesaverage\",\"stats.family.cgs.bayesaverage\",\"stats.family.cgs.pos\",\n",
    "\"stats.family.childrensgames.bayesaverage\",\"stats.family.childrensgames.pos\",\"stats.family.familygames.bayesaverage\",\"stats.family.familygames.pos\",\n",
    "\"stats.family.partygames.bayesaverage\",\"stats.family.partygames.pos\",\"stats.family.strategygames.bayesaverage\",\"stats.family.strategygames.pos\",\"stats.family.thematic.bayesaverage\",\"stats.family.thematic.pos\",\n",
    "\"stats.family.wargames.bayesaverage\",\"stats.family.wargames.pos\",\"stats.median\",\"stats.numcomments\",\"stats.numweights\",\"stats.owned\",\"stats.stddev\",\"stats.subtype.boardgame.bayesaverage\",\n",
    "\"stats.subtype.boardgame.pos\",\"stats.trading\",\"stats.usersrated\",\"stats.wanting\",\"stats.wishing\",\"stats.family.amiga.bayesaverage\",\"stats.family.amiga.pos\",\"stats.family.arcade.bayesaverage\",\"stats.family.arcade.pos\",\"stats.family.atarist.bayesaverage\",\"stats.family.atarist.pos\",\n",
    "\"stats.family.commodore64.bayesaverage\",\"stats.family.commodore64.pos\",\"stats.subtype.rpgitem.bayesaverage\",\"stats.subtype.rpgitem.pos\",\"stats.subtype.videogame.bayesaverage\",\"stats.subtype.videogame.pos\"]\n",
    "polls=[\"game.id\",\"polls.language_dependence\",\"polls.suggested_numplayers.1\",\"polls.suggested_numplayers.10\",\"polls.suggested_numplayers.2\",\"polls.suggested_numplayers.3\",\"polls.suggested_numplayers.4\",\n",
    "\"polls.suggested_numplayers.5\",\"polls.suggested_numplayers.6\",\"polls.suggested_numplayers.7\",\"polls.suggested_numplayers.8\",\"polls.suggested_numplayers.9\",\"polls.suggested_numplayers.Over\",\"polls.suggested_playerage\"]"
   ]
  },
  {
   "cell_type": "code",
   "execution_count": null,
   "metadata": {},
   "outputs": [],
   "source": [
    "#creating smaller dataframes to work with\n",
    "df_games_details=df_games[details]\n",
    "df_games_attributes=df_games[attributes]\n",
    "df_games_stats=df_games[stats]\n",
    "df_games_polls=df_games[polls]"
   ]
  },
  {
   "cell_type": "code",
   "execution_count": null,
   "metadata": {},
   "outputs": [],
   "source": [
    "df_games_details.head(10)"
   ]
  },
  {
   "cell_type": "code",
   "execution_count": null,
   "metadata": {},
   "outputs": [],
   "source": [
    "df_games_details.dtypes"
   ]
  },
  {
   "cell_type": "markdown",
   "metadata": {},
   "source": [
    "###  Kickstarter dataset-Jaskaran"
   ]
  },
  {
   "cell_type": "code",
   "execution_count": null,
   "metadata": {},
   "outputs": [],
   "source": [
    "df_ks.head(10)"
   ]
  },
  {
   "cell_type": "markdown",
   "metadata": {},
   "source": [
    "### References"
   ]
  },
  {
   "cell_type": "markdown",
   "metadata": {},
   "source": [
    "Board Game Industry Statistics (n.d.) PrintNinja. (https://printninja.com/board-game-industry-statistics/)\n",
    "\n",
    "SkyQuest Technology (2022, July 19) Board Games Market to Attain Value of $30.93 Billion By 2028 Thanks to Increased Popularity of Online Gaming and Entry of New OTT platforms In Board Gaming. Globe News Wire. (https://www.globenewswire.com/news-release/2022/07/19/2482068/0/en/Board-Games-Market-to-Attain-Value-of-30-93-Billion-By-2028-Thanks-to-Increased-Popularity-of-Online-Gaming-and-Entry-of-New-OTT-platforms-In-Board-Gaming.html)\n",
    "\n",
    "https://www.gamedesignworkshop.com/understanding-the-tabletop-game-industry\n"
   ]
  }
 ],
 "metadata": {
  "kernelspec": {
   "display_name": "Python 3.10.6 64-bit",
   "language": "python",
   "name": "python3"
  },
  "language_info": {
   "codemirror_mode": {
    "name": "ipython",
    "version": 3
   },
   "file_extension": ".py",
   "mimetype": "text/x-python",
   "name": "python",
   "nbconvert_exporter": "python",
   "pygments_lexer": "ipython3",
   "version": "3.10.6"
  },
  "orig_nbformat": 4,
  "vscode": {
   "interpreter": {
    "hash": "5ec81bd309326cb5702c1003221fc22bf32f945db3c59efa7684c6aa919e451c"
   }
  }
 },
 "nbformat": 4,
 "nbformat_minor": 2
}
